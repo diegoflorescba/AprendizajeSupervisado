{
 "cells": [
  {
   "cell_type": "markdown",
   "id": "072271c6-4f43-4179-8ef5-51cc11c250bb",
   "metadata": {},
   "source": [
    "# DiploDatos Kaggle Competition\n"
   ]
  },
  {
   "cell_type": "markdown",
   "id": "6a79f113-1233-40bd-ab3f-e51894865d36",
   "metadata": {},
   "source": [
    "Presentamos un código creado como ejemplo de base para la competición.\n",
    "\n",
    "Deben:\n",
    "\n",
    "- Explorar los datos y aprender de ellos.\n",
    "- Probar diferentes modelos y ver cuáles ajustan mejor dado los datos.\n",
    "- **Obtener una accuracy mejor que la que se presenta en este ejemplo.**\n",
    "- Tratar de obtener la accuracy más alta posible!\n",
    "- Discutir la elección de modelo.\n",
    "\n",
    "El análisis exploratorio y el preprocesamiento de los datos queda a libertad de cada grupo y no deben quedarse con este simple ejemplo."
   ]
  },
  {
   "cell_type": "code",
   "execution_count": 1,
   "id": "2211ec1d-37f0-4a51-a9e7-20dcb1933d91",
   "metadata": {
    "tags": []
   },
   "outputs": [],
   "source": [
    "import pandas as pd\n",
    "from pandas import MultiIndex, Int16Dtype\n",
    "import numpy as np\n",
    "import matplotlib.pyplot as plt\n",
    "\n",
    "from sklearn.preprocessing import StandardScaler, LabelEncoder, OneHotEncoder, MinMaxScaler\n",
    "from sklearn.impute import SimpleImputer\n",
    "from sklearn.model_selection import train_test_split, GridSearchCV, StratifiedKFold, RandomizedSearchCV\n",
    "from sklearn.metrics import accuracy_score, ConfusionMatrixDisplay, classification_report, roc_auc_score\n",
    "\n",
    "from sklearn.tree import DecisionTreeClassifier\n",
    "from sklearn.ensemble import RandomForestClassifier, BaggingClassifier, GradientBoostingClassifier, VotingClassifier\n",
    "from sklearn.linear_model import LogisticRegression, RidgeClassifier, Perceptron, SGDClassifier\n",
    "from sklearn.neighbors import KNeighborsClassifier\n",
    "from sklearn.svm import SVC\n",
    "from xgboost import XGBClassifier\n",
    "from lightgbm import LGBMClassifier\n",
    "from sklearn.naive_bayes import GaussianNB\n",
    "from catboost import CatBoostClassifier\n",
    "\n",
    "import warnings\n",
    "warnings.filterwarnings('ignore')\n",
    "\n",
    "import missingno as msno\n",
    "import seaborn as sns\n",
    "\n",
    "xgboost.set_config(verbosity=0)"
   ]
  },
  {
   "cell_type": "markdown",
   "id": "cf3c929c-d590-41ba-a2ff-ab36866e4c4d",
   "metadata": {},
   "source": [
    "# 1. Se importan los datos del archivo 'train.csv' para comenzar con el análisis exploratorio"
   ]
  },
  {
   "cell_type": "code",
   "execution_count": 2,
   "id": "465f1490-dea2-4a73-be22-a5daf2132d24",
   "metadata": {
    "tags": []
   },
   "outputs": [
    {
     "name": "stdout",
     "output_type": "stream",
     "text": [
      "Index(['PassengerId', 'HomePlanet', 'CryoSleep', 'Cabin', 'Destination', 'Age',\n",
      "       'VIP', 'RoomService', 'FoodCourt', 'ShoppingMall', 'Spa', 'VRDeck',\n",
      "       'Name', 'Transported'],\n",
      "      dtype='object')\n",
      "(7823, 14)\n",
      "<class 'pandas.core.frame.DataFrame'>\n",
      "RangeIndex: 7823 entries, 0 to 7822\n",
      "Data columns (total 14 columns):\n",
      " #   Column        Non-Null Count  Dtype  \n",
      "---  ------        --------------  -----  \n",
      " 0   PassengerId   7823 non-null   int64  \n",
      " 1   HomePlanet    7644 non-null   object \n",
      " 2   CryoSleep     7627 non-null   object \n",
      " 3   Cabin         7639 non-null   object \n",
      " 4   Destination   7663 non-null   object \n",
      " 5   Age           7661 non-null   float64\n",
      " 6   VIP           7639 non-null   object \n",
      " 7   RoomService   7669 non-null   float64\n",
      " 8   FoodCourt     7668 non-null   float64\n",
      " 9   ShoppingMall  7635 non-null   float64\n",
      " 10  Spa           7665 non-null   float64\n",
      " 11  VRDeck        7654 non-null   float64\n",
      " 12  Name          7639 non-null   object \n",
      " 13  Transported   7823 non-null   int64  \n",
      "dtypes: float64(6), int64(2), object(6)\n",
      "memory usage: 855.8+ KB\n",
      "None\n"
     ]
    }
   ],
   "source": [
    "df = pd.read_csv('train.csv')\n",
    "print(df.columns)\n",
    "print(df.shape)\n",
    "print(df.info())"
   ]
  },
  {
   "cell_type": "markdown",
   "id": "33ad12b6-0800-440f-8c2a-55f1f823e391",
   "metadata": {},
   "source": [
    "## 1.1 - Es importante reducir el número de features aplicando un criterio de lógica basado en la definición de las columnas en el dataset"
   ]
  },
  {
   "cell_type": "markdown",
   "id": "dfda35c7-77eb-4374-9548-20cc8f6ad6a4",
   "metadata": {},
   "source": [
    "## Definición de las features según Kaggle\n",
    "\n",
    "- PassengerId - A unique Id for each passenger. \n",
    "- HomePlanet - The planet the passenger departed from, typically their planet of permanent residence.\n",
    "- CryoSleep - Indicates whether the passenger elected to be put into suspended animation for the duration of the voyage. Passengers in cryosleep are confined to their cabins.\n",
    "- Cabin - The cabin number where the passenger is staying. Takes the form deck/num/side, where side can be either P for Port or S for Starboard.\n",
    "- Destination - The planet the passenger will be debarking to.\n",
    "- Age - The age of the passenger.\n",
    "- VIP - Whether the passenger has paid for special VIP service during the voyage.\n",
    "- RoomService, FoodCourt, ShoppingMall, Spa, VRDeck - Amount the passenger has billed at each of the Spaceship Titanic's many luxury amenities.\n",
    "- Name - The first and last names of the passenger.\n",
    "- Transported - Whether the passenger was transported to another dimension. This is the target, the column you are trying to predict."
   ]
  },
  {
   "cell_type": "markdown",
   "id": "eac2c7a0-9a9b-45be-b38d-b6ab23f678ef",
   "metadata": {},
   "source": [
    "## 1.2- La columna 'PassengerId' y 'Name' se pueden eliminar, dado que es un feature único de registro que no debe repetirse."
   ]
  },
  {
   "cell_type": "code",
   "execution_count": 3,
   "id": "e303e7de-c6a8-4d01-8c5f-e5a0af0ee73c",
   "metadata": {
    "tags": []
   },
   "outputs": [
    {
     "data": {
      "text/plain": [
       "Index(['HomePlanet', 'CryoSleep', 'Cabin', 'Destination', 'Age', 'VIP',\n",
       "       'RoomService', 'FoodCourt', 'ShoppingMall', 'Spa', 'VRDeck',\n",
       "       'Transported'],\n",
       "      dtype='object')"
      ]
     },
     "execution_count": 3,
     "metadata": {},
     "output_type": "execute_result"
    }
   ],
   "source": [
    "cols_to_drop = ['PassengerId','Name']\n",
    "df.drop(cols_to_drop, axis=1, inplace=True)\n",
    "df.columns"
   ]
  },
  {
   "cell_type": "markdown",
   "id": "bba6dff8-3de1-4603-a2ec-a22e10865151",
   "metadata": {},
   "source": [
    "## 1.3- Análisis de datos faltantes"
   ]
  },
  {
   "cell_type": "code",
   "execution_count": 4,
   "id": "70aa96a6-c23e-4629-922e-6cf5d0b2c34e",
   "metadata": {
    "tags": []
   },
   "outputs": [
    {
     "name": "stdout",
     "output_type": "stream",
     "text": [
      "<class 'pandas.core.frame.DataFrame'>\n",
      "RangeIndex: 7823 entries, 0 to 7822\n",
      "Data columns (total 12 columns):\n",
      " #   Column        Non-Null Count  Dtype  \n",
      "---  ------        --------------  -----  \n",
      " 0   HomePlanet    7644 non-null   object \n",
      " 1   CryoSleep     7627 non-null   object \n",
      " 2   Cabin         7639 non-null   object \n",
      " 3   Destination   7663 non-null   object \n",
      " 4   Age           7661 non-null   float64\n",
      " 5   VIP           7639 non-null   object \n",
      " 6   RoomService   7669 non-null   float64\n",
      " 7   FoodCourt     7668 non-null   float64\n",
      " 8   ShoppingMall  7635 non-null   float64\n",
      " 9   Spa           7665 non-null   float64\n",
      " 10  VRDeck        7654 non-null   float64\n",
      " 11  Transported   7823 non-null   int64  \n",
      "dtypes: float64(6), int64(1), object(5)\n",
      "memory usage: 733.5+ KB\n",
      "None\n",
      "               Age   RoomService     FoodCourt  ShoppingMall           Spa  \\\n",
      "count  7661.000000   7669.000000   7668.000000   7635.000000   7665.000000   \n",
      "mean     28.879389    226.078237    455.643062    172.600393    305.023222   \n",
      "std      14.461548    679.180148   1621.290107    597.923749   1133.423579   \n",
      "min       0.000000      0.000000      0.000000      0.000000      0.000000   \n",
      "25%      19.000000      0.000000      0.000000      0.000000      0.000000   \n",
      "50%      27.000000      0.000000      0.000000      0.000000      0.000000   \n",
      "75%      38.000000     44.000000     69.000000     28.000000     58.000000   \n",
      "max      79.000000  14327.000000  29813.000000  23492.000000  22408.000000   \n",
      "\n",
      "             VRDeck  Transported  \n",
      "count   7654.000000  7823.000000  \n",
      "mean     295.476744     0.506711  \n",
      "std     1093.485752     0.499987  \n",
      "min        0.000000     0.000000  \n",
      "25%        0.000000     0.000000  \n",
      "50%        0.000000     1.000000  \n",
      "75%       46.000000     1.000000  \n",
      "max    24133.000000     1.000000  \n"
     ]
    }
   ],
   "source": [
    "print(df.info())\n",
    "print(df.describe())"
   ]
  },
  {
   "cell_type": "code",
   "execution_count": 5,
   "id": "d3b6940e-b5fe-4848-98fe-3cfcaad934b9",
   "metadata": {
    "tags": []
   },
   "outputs": [
    {
     "data": {
      "text/plain": [
       "<AxesSubplot:>"
      ]
     },
     "execution_count": 5,
     "metadata": {},
     "output_type": "execute_result"
    },
    {
     "data": {
      "image/png": "[encoded data removed]",
      "text/plain": [
       "<Figure size 1800x720 with 2 Axes>"
      ]
     },
     "metadata": {
      "needs_background": "light"
     },
     "output_type": "display_data"
    }
   ],
   "source": [
    "msno.matrix(df)"
   ]
  },
  {
   "cell_type": "markdown",
   "id": "900336bd-5d7c-4209-b3ec-b68fecb21b7a",
   "metadata": {},
   "source": [
    "### **Acá se observa que hay una diversidad de datos faltantes en el dataset, todos ellos correspondientes a las features. La variable target ('Transported') está completa, lo cual ya elimina un problema.** \n",
    "\n",
    "### - Utilizaré un criterio conservador de imputación de datos, en donde si la evidencia y/o lógica de imputación no resulta segura, prefiero eliminar el dato completo.\n",
    "\n",
    "### - En esa línea, creo que una feature crítica es 'CryoSleep', dado que en principio una persona durmiendo en condiciones criogénicas tiene muy bajas chances de no ser teletransportado, a no ser que alguien se dedique a rescatarlo. Entonces imputar 'CryoSleep' de manera fundamentada es muy importante a los fines del modelo en desarrollo. \n",
    "\n",
    "### - El criterio de analizar si la persona gastó o no gastó dinero, y su conexión con 'CryoSpleep' es muy sólida, con lo cual se considera puede ser utilizada de manera segura. Vamos con eso en las celdas que siguen\n"
   ]
  },
  {
   "cell_type": "code",
   "execution_count": 6,
   "id": "3f325910-d10e-46d1-9ef5-732722fd122c",
   "metadata": {
    "tags": []
   },
   "outputs": [
    {
     "data": {
      "text/html": [
       "<div>\n",
       "<style scoped>\n",
       "    .dataframe tbody tr th:only-of-type {\n",
       "        vertical-align: middle;\n",
       "    }\n",
       "\n",
       "    .dataframe tbody tr th {\n",
       "        vertical-align: top;\n",
       "    }\n",
       "\n",
       "    .dataframe thead th {\n",
       "        text-align: right;\n",
       "    }\n",
       "</style>\n",
       "<table border=\"1\" class=\"dataframe\">\n",
       "  <thead>\n",
       "    <tr style=\"text-align: right;\">\n",
       "      <th></th>\n",
       "      <th>HomePlanet</th>\n",
       "      <th>CryoSleep</th>\n",
       "      <th>Cabin</th>\n",
       "      <th>Destination</th>\n",
       "      <th>Age</th>\n",
       "      <th>VIP</th>\n",
       "      <th>RoomService</th>\n",
       "      <th>FoodCourt</th>\n",
       "      <th>ShoppingMall</th>\n",
       "      <th>Spa</th>\n",
       "      <th>VRDeck</th>\n",
       "      <th>Transported</th>\n",
       "    </tr>\n",
       "  </thead>\n",
       "  <tbody>\n",
       "  </tbody>\n",
       "</table>\n",
       "</div>"
      ],
      "text/plain": [
       "Empty DataFrame\n",
       "Columns: [HomePlanet, CryoSleep, Cabin, Destination, Age, VIP, RoomService, FoodCourt, ShoppingMall, Spa, VRDeck, Transported]\n",
       "Index: []"
      ]
     },
     "execution_count": 6,
     "metadata": {},
     "output_type": "execute_result"
    }
   ],
   "source": [
    "# Acá se verifica que no existe datos que tengan valores faltantes SIMULTANEOS en todos los rubros de gastos\n",
    "# Esto es importante por la feature de suma de gastos estará completa, y a lo fines de 'gatillo'para imputar CryoSleep es confiable\n",
    "df.loc[(df['RoomService'].isna()) & \n",
    "       (df['FoodCourt'].isna()) & \n",
    "       (df['ShoppingMall'].isna()) &\n",
    "       (df['Spa'].isna()) &\n",
    "       (df['VRDeck'].isna())\n",
    "      ]"
   ]
  },
  {
   "cell_type": "code",
   "execution_count": 7,
   "id": "5a0522d2-e214-4dbd-890c-53e16769ec50",
   "metadata": {
    "tags": []
   },
   "outputs": [
    {
     "data": {
      "text/plain": [
       "Expenses\n",
       "0.0    2756\n",
       "dtype: int64"
      ]
     },
     "execution_count": 7,
     "metadata": {},
     "output_type": "execute_result"
    }
   ],
   "source": [
    "# Sumamos los rubros de gastos\n",
    "df['Expenses'] = df.iloc[:,6:11].sum(axis=1)\n",
    "df['Expenses_mean'] = df.iloc[:,6:11].mean(axis=1)\n",
    "df['Expenses_std'] = df.iloc[:,6:11].std(axis=1)\n",
    "\n",
    "# Verificamos que de los datos presentes, el que duerme no gasta dinero en amenities\n",
    "df[df['CryoSleep'] == True].value_counts('Expenses')\n"
   ]
  },
  {
   "cell_type": "code",
   "execution_count": 8,
   "id": "8fc299bd-ddef-4df6-bde5-82aea88ac514",
   "metadata": {
    "tags": []
   },
   "outputs": [],
   "source": [
    "# Aplicamos la imputación por asoción de 'Dormir -> No gasta'\n",
    "df.CryoSleep.fillna('Unknown', inplace=True)\n",
    "\n",
    "def fill_cryo(x, y):\n",
    "    if x == 'Unknown' and y == 0:\n",
    "        return True\n",
    "    elif x == 'Unknown' and y != 0:\n",
    "        return False\n",
    "    else:\n",
    "        return x\n",
    "    \n",
    "df['CryoSleep'] = df[['CryoSleep','Expenses']].apply(\n",
    "    lambda row: fill_cryo(row['CryoSleep'], row['Expenses']) , axis=1)"
   ]
  },
  {
   "cell_type": "code",
   "execution_count": 9,
   "id": "75ce8f72-4df7-4e96-9146-9f8288b1e92a",
   "metadata": {
    "tags": []
   },
   "outputs": [
    {
     "data": {
      "text/plain": [
       "<AxesSubplot:>"
      ]
     },
     "execution_count": 9,
     "metadata": {},
     "output_type": "execute_result"
    },
    {
     "data": {
      "image/png": "[encoded data removed]",
      "text/plain": [
       "<Figure size 1800x720 with 2 Axes>"
      ]
     },
     "metadata": {
      "needs_background": "light"
     },
     "output_type": "display_data"
    }
   ],
   "source": [
    "msno.matrix(df)"
   ]
  },
  {
   "cell_type": "markdown",
   "id": "4f81bfdc-a8f6-4034-b4f4-5996a08f4478",
   "metadata": {},
   "source": [
    "### Una pregunta válida es: La gente que gasta ('Expenses' > 0) tiene mas chances de salvarse? se contean los casos"
   ]
  },
  {
   "cell_type": "code",
   "execution_count": 10,
   "id": "d7536504-c46b-4021-99d8-a47e923af73b",
   "metadata": {
    "tags": []
   },
   "outputs": [
    {
     "name": "stdout",
     "output_type": "stream",
     "text": [
      "Gastaron y se salvaron: 3158\n",
      "Gastaron y NO se salvaron: 1359\n",
      "NO Gastaron y se salvaron: 701\n",
      "NO Gastaron y NO se salvaron: 2605\n"
     ]
    }
   ],
   "source": [
    "print('Gastaron y se salvaron: {}'.format(len(df[(df['Expenses'] > 0) & (df['Transported'] == 0)])))  \n",
    "print('Gastaron y NO se salvaron: {}'.format(len(df[(df['Expenses'] > 0) & (df['Transported'] == 1)])))\n",
    "print('NO Gastaron y se salvaron: {}'.format(len(df[(df['Expenses'] == 0) & (df['Transported'] == 0)])))\n",
    "print('NO Gastaron y NO se salvaron: {}'.format(len(df[(df['Expenses'] == 0) & (df['Transported'] == 1)])))"
   ]
  },
  {
   "cell_type": "markdown",
   "id": "c86c6faf-96a7-4412-ae0a-09eb0674bbc0",
   "metadata": {},
   "source": [
    "### Es evidente que la gente que gasta dinero en amenities es la que mas se salvó. Ahora, la gente que gastó, pero NO se salvó: es gente que gasta poco? se analiza eso de manera gráfica."
   ]
  },
  {
   "cell_type": "code",
   "execution_count": 11,
   "id": "430dc7c1-65cf-463d-8513-01d0b1e90b6e",
   "metadata": {
    "tags": []
   },
   "outputs": [
    {
     "data": {
      "text/plain": [
       "<AxesSubplot:xlabel='Transported', ylabel='Expenses'>"
      ]
     },
     "execution_count": 11,
     "metadata": {},
     "output_type": "execute_result"
    },
    {
     "data": {
      "image/png": "[encoded data removed]",
      "text/plain": [
       "<Figure size 432x288 with 1 Axes>"
      ]
     },
     "metadata": {
      "needs_background": "light"
     },
     "output_type": "display_data"
    }
   ],
   "source": [
    "sns.boxplot(x='Transported',y='Expenses',data=df)"
   ]
  },
  {
   "cell_type": "markdown",
   "id": "995cdf08-cf08-434a-8fe5-48d051703b3c",
   "metadata": {},
   "source": [
    "### No se observa que haya una diferencia clara que que la gente que gasta menos se teletransporte mas. Incluso el rango intercuartílico delos que se salvaron es mayor al de los que no se salvaron. CONCLUSION: Gastar dinero si es una feature 'gatillo' del tipo salvarse SI o NO, pero no se anticipa que haya una correlación cuantitativa entre cuanto gastó y la posibilidad de salvarse. Eso implica que a los valores en las distintas categorias de amenities los puedo asignar con 0 sin afectar alguna capacidad predictiva."
   ]
  },
  {
   "cell_type": "code",
   "execution_count": 12,
   "id": "d3c34d09-308f-4d6d-8096-053535f1b669",
   "metadata": {
    "tags": []
   },
   "outputs": [],
   "source": [
    "columns_to_fill = ['RoomService','FoodCourt','ShoppingMall','Spa','VRDeck']\n",
    "df[columns_to_fill] = df[columns_to_fill].fillna(0)"
   ]
  },
  {
   "cell_type": "code",
   "execution_count": 13,
   "id": "fb8ab800-09f6-435a-a69e-a61f2644b283",
   "metadata": {
    "tags": []
   },
   "outputs": [
    {
     "data": {
      "text/plain": [
       "<AxesSubplot:>"
      ]
     },
     "execution_count": 13,
     "metadata": {},
     "output_type": "execute_result"
    },
    {
     "data": {
      "image/png": "[encoded data removed]",
      "text/plain": [
       "<Figure size 1800x720 with 2 Axes>"
      ]
     },
     "metadata": {
      "needs_background": "light"
     },
     "output_type": "display_data"
    }
   ],
   "source": [
    "msno.matrix(df)"
   ]
  },
  {
   "cell_type": "markdown",
   "id": "75b4cf52-705b-48d8-9b26-b45018489618",
   "metadata": {},
   "source": [
    "### Ahora se desacoplan datos de la columna 'Cabin'. Existen datos respeto de la ubicacion del pasajero que pueden ser útiles a los fines del aprendizaje\n"
   ]
  },
  {
   "cell_type": "code",
   "execution_count": 14,
   "id": "c14502e8-2278-467b-9b39-11f00a4cbff8",
   "metadata": {
    "tags": []
   },
   "outputs": [
    {
     "data": {
      "text/plain": [
       "Index(['HomePlanet', 'CryoSleep', 'Cabin', 'Destination', 'Age', 'VIP',\n",
       "       'RoomService', 'FoodCourt', 'ShoppingMall', 'Spa', 'VRDeck',\n",
       "       'Transported', 'Expenses', 'Expenses_mean', 'Expenses_std', 'Deck',\n",
       "       'Num', 'Side'],\n",
       "      dtype='object')"
      ]
     },
     "execution_count": 14,
     "metadata": {},
     "output_type": "execute_result"
    }
   ],
   "source": [
    "df[['Deck','Num','Side']] = df['Cabin'].str.split('/',expand=True)\n",
    "df.columns"
   ]
  },
  {
   "cell_type": "markdown",
   "id": "e7f40139-93e6-4b1b-893b-9e94ad33bfcc",
   "metadata": {},
   "source": [
    "### Vemos que los pasajeros VIP son muy poco en relación a los pasajeros NO VIP, con lo cual es seguro imputar como 'FALSE' los datos faltantes en VIP."
   ]
  },
  {
   "cell_type": "code",
   "execution_count": 15,
   "id": "7cb31b9c-d582-423c-a4c0-5247e85b27df",
   "metadata": {
    "tags": []
   },
   "outputs": [],
   "source": [
    "df['VIP'] = df['VIP'].fillna(False)"
   ]
  },
  {
   "cell_type": "code",
   "execution_count": 16,
   "id": "47dda3bd-799d-4007-aba2-745721333562",
   "metadata": {
    "tags": []
   },
   "outputs": [
    {
     "data": {
      "text/plain": [
       "<AxesSubplot:>"
      ]
     },
     "execution_count": 16,
     "metadata": {},
     "output_type": "execute_result"
    },
    {
     "data": {
      "image/png": "[encoded data removed]",
      "text/plain": [
       "<Figure size 1800x720 with 2 Axes>"
      ]
     },
     "metadata": {
      "needs_background": "light"
     },
     "output_type": "display_data"
    }
   ],
   "source": [
    "msno.matrix(df)"
   ]
  },
  {
   "cell_type": "markdown",
   "id": "2afe84ca-0848-4d1d-a4d9-7d197443ea20",
   "metadata": {},
   "source": [
    "### Ahora vamos a imputar los valores de Edad: Primero vemos la distrbución de los datos, los cuales se parecen a una dist normal con una leve disminución en la franja de niños entre 5-10 años. Por ello, imputar por edad promedio está bien, pero además podemos considerar edades promedios independientes para la población de pasajeros VIP y no VIP. Imputamos cada subpoblación con su media."
   ]
  },
  {
   "cell_type": "code",
   "execution_count": 17,
   "id": "647c45ea-c5d5-47d4-8ced-5f334dd34ac9",
   "metadata": {
    "tags": []
   },
   "outputs": [
    {
     "name": "stdout",
     "output_type": "stream",
     "text": [
      "28.879389113692728\n",
      "27.0\n"
     ]
    },
    {
     "data": {
      "text/plain": [
       "<seaborn.axisgrid.FacetGrid at 0x7f654c9c6c10>"
      ]
     },
     "execution_count": 17,
     "metadata": {},
     "output_type": "execute_result"
    },
    {
     "data": {
      "image/png": "[encoded data removed]",
      "text/plain": [
       "<Figure size 360x360 with 1 Axes>"
      ]
     },
     "metadata": {
      "needs_background": "light"
     },
     "output_type": "display_data"
    }
   ],
   "source": [
    "print(df['Age'].mean())\n",
    "print(df['Age'].median())\n",
    "sns.displot(df,x='Age')"
   ]
  },
  {
   "cell_type": "code",
   "execution_count": 18,
   "id": "daa1946a-8a10-417c-9c3a-42205a3de76c",
   "metadata": {
    "tags": []
   },
   "outputs": [],
   "source": [
    "df_VIP = df[df['VIP'] == True]\n",
    "df_noVIP = df[df['VIP'] == False]\n",
    "media_VIP = df_VIP['Age'].mean()\n",
    "media_noVIP = df_noVIP['Age'].mean()\n",
    "\n",
    "df.Age.fillna(-1, inplace=True)\n",
    "\n",
    "def fill_age(x, y):\n",
    "    if x == -1 and y == True:\n",
    "        return media_VIP\n",
    "    elif x == -1 and y == False:\n",
    "        return media_noVIP\n",
    "    else:\n",
    "        return x\n",
    "    \n",
    "#df['Age'] = df[['Age','VIP']].apply(lambda row: fill_cryo(row['Age'], row['VIP']) , axis=1)"
   ]
  },
  {
   "cell_type": "code",
   "execution_count": 19,
   "id": "e599facb-dd7d-45ca-b643-59e14a33265e",
   "metadata": {
    "tags": []
   },
   "outputs": [
    {
     "data": {
      "text/plain": [
       "<AxesSubplot:>"
      ]
     },
     "execution_count": 19,
     "metadata": {},
     "output_type": "execute_result"
    },
    {
     "data": {
      "image/png": "[encoded data removed]",
      "text/plain": [
       "<Figure size 1800x720 with 2 Axes>"
      ]
     },
     "metadata": {
      "needs_background": "light"
     },
     "output_type": "display_data"
    }
   ],
   "source": [
    "msno.matrix(df)"
   ]
  },
  {
   "cell_type": "markdown",
   "id": "805fb281-1664-4502-91d6-3789c49f73bc",
   "metadata": {},
   "source": [
    "### Ahora los valores de HomePlanet y Destination los rellenamos confiando en las frecuencias, y asumiento el origen y destino mas frecuente del pasajero."
   ]
  },
  {
   "cell_type": "code",
   "execution_count": 20,
   "id": "88a250fe-a46a-46c6-a686-b336b4bc57c0",
   "metadata": {
    "tags": []
   },
   "outputs": [
    {
     "name": "stdout",
     "output_type": "stream",
     "text": [
      "Earth     4114\n",
      "Europa    1935\n",
      "Mars      1595\n",
      "Name: HomePlanet, dtype: int64\n",
      "TRAPPIST-1e      5316\n",
      "55 Cancri e      1625\n",
      "PSO J318.5-22     722\n",
      "Name: Destination, dtype: int64\n"
     ]
    }
   ],
   "source": [
    "print(df['HomePlanet'].value_counts())\n",
    "print(df['Destination'].value_counts())\n",
    "Homeplanet_value = 'Earth'\n",
    "Destination_value = 'TRAPPIST-1e'\n",
    "df.HomePlanet.fillna(Homeplanet_value, inplace=True)\n",
    "df.Destination.fillna(Destination_value, inplace=True)"
   ]
  },
  {
   "cell_type": "markdown",
   "id": "71a4becc-9837-470b-866a-199836105301",
   "metadata": {},
   "source": [
    "### Los datos de cabina y sus features desglosadas son imposibles de imputar, atento a que se vió que no hay un patron de ocupación de la nave. Es decir que se vé que no hay Deck o Side que se ocupado por algún tipo de pasajero particular. Entonces se calculan el impacto en cuanto a pérdida de información de estos datos si es que fueran eliminado. Son muy poco datos (2.35%), con lo cual se decide eliminar el dato completo si es que este feature no está presente. Dado que en el dataframe de test se observan datos faltantes de 'Cabin', si esta feature (o sus derivadas) resulta importante para la predicción deberemos reanalizar como imputarla."
   ]
  },
  {
   "cell_type": "code",
   "execution_count": 21,
   "id": "3f6a3c7f-6a35-442d-8a64-f18759a41338",
   "metadata": {
    "tags": []
   },
   "outputs": [
    {
     "name": "stdout",
     "output_type": "stream",
     "text": [
      "HomePlanet 7823 0 100.00%\n",
      "CryoSleep 7823 0 100.00%\n",
      "Cabin 7639 184 97.65%\n",
      "Destination 7823 0 100.00%\n",
      "Age 7823 0 100.00%\n",
      "VIP 7823 0 100.00%\n",
      "RoomService 7823 0 100.00%\n",
      "FoodCourt 7823 0 100.00%\n",
      "ShoppingMall 7823 0 100.00%\n",
      "Spa 7823 0 100.00%\n",
      "VRDeck 7823 0 100.00%\n",
      "Transported 7823 0 100.00%\n",
      "Expenses 7823 0 100.00%\n",
      "Expenses_mean 7823 0 100.00%\n",
      "Expenses_std 7823 0 100.00%\n",
      "Deck 7639 184 97.65%\n",
      "Num 7639 184 97.65%\n",
      "Side 7639 184 97.65%\n"
     ]
    }
   ],
   "source": [
    "features = list(df.columns)\n",
    "\n",
    "def print_null_values(dataset,features):\n",
    "    row, column = dataset.shape \n",
    "    for feature in features:\n",
    "        values = dataset[feature].count()\n",
    "        missing_values = dataset[feature].isnull().sum()\n",
    "        nan_values = dataset[feature].isna().sum()\n",
    "        perc = (values / row) * 100\n",
    "        print(\"{0} {1} {2} {3:.2f}%\".format(feature,values,missing_values,perc))\n",
    "    \n",
    "print_null_values(df,features)"
   ]
  },
  {
   "cell_type": "markdown",
   "id": "4e00455e-80fb-4a97-95d6-6a016344ba51",
   "metadata": {},
   "source": [
    "### Un análisis que se pensó útil fué tratar de discriminar en base a la distribución del pasaje quien son tripulantes de la nave y quienes son pasajeros. Para ello se asumen que los tripulates duermen en cabinas compartidas, mientras que los pasajeros duermen en grupos familiares. Vimos cuantas cabinas hay, y cual es la ocupación de las mismas."
   ]
  },
  {
   "cell_type": "code",
   "execution_count": 22,
   "id": "41ee8021-f95c-4b25-a5a2-ceb41dc1c433",
   "metadata": {
    "tags": []
   },
   "outputs": [
    {
     "data": {
      "text/plain": [
       "G/734/S     8\n",
       "B/201/P     7\n",
       "F/1194/P    7\n",
       "E/13/S      7\n",
       "G/117/S     6\n",
       "           ..\n",
       "B/120/P     1\n",
       "G/6/S       1\n",
       "G/80/S      1\n",
       "G/631/S     1\n",
       "E/253/P     1\n",
       "Name: Cabin, Length: 6009, dtype: int64"
      ]
     },
     "execution_count": 22,
     "metadata": {},
     "output_type": "execute_result"
    }
   ],
   "source": [
    "df['Cabin'].value_counts()"
   ]
  },
  {
   "cell_type": "markdown",
   "id": "f075c14b-288b-43dd-9d78-a87711d7b1e0",
   "metadata": {},
   "source": [
    "### Un análisis de la ocupación de la cabina con mas ocupantes (8), que se asume son tripulación de servicio, arroja datos inconsistentes con la lógica de registro del dato de cabina, básicamente porque:\n",
    "\n",
    "- La misma cabina tiene destinos distintos\n",
    "- Hay niños en la cabina de 8 años, con lo cual no pueden ser tripulación.\n",
    "- Hay niños de 4 y 14 años que van a un destino único en la cabina."
   ]
  },
  {
   "cell_type": "code",
   "execution_count": 23,
   "id": "c5efb5b9-9c12-461b-a9dd-5a371a0bfc10",
   "metadata": {
    "tags": []
   },
   "outputs": [
    {
     "data": {
      "text/html": [
       "<div>\n",
       "<style scoped>\n",
       "    .dataframe tbody tr th:only-of-type {\n",
       "        vertical-align: middle;\n",
       "    }\n",
       "\n",
       "    .dataframe tbody tr th {\n",
       "        vertical-align: top;\n",
       "    }\n",
       "\n",
       "    .dataframe thead th {\n",
       "        text-align: right;\n",
       "    }\n",
       "</style>\n",
       "<table border=\"1\" class=\"dataframe\">\n",
       "  <thead>\n",
       "    <tr style=\"text-align: right;\">\n",
       "      <th></th>\n",
       "      <th>HomePlanet</th>\n",
       "      <th>CryoSleep</th>\n",
       "      <th>Cabin</th>\n",
       "      <th>Destination</th>\n",
       "      <th>Age</th>\n",
       "      <th>VIP</th>\n",
       "      <th>RoomService</th>\n",
       "      <th>FoodCourt</th>\n",
       "      <th>ShoppingMall</th>\n",
       "      <th>Spa</th>\n",
       "      <th>VRDeck</th>\n",
       "      <th>Transported</th>\n",
       "      <th>Expenses</th>\n",
       "      <th>Expenses_mean</th>\n",
       "      <th>Expenses_std</th>\n",
       "      <th>Deck</th>\n",
       "      <th>Num</th>\n",
       "      <th>Side</th>\n",
       "    </tr>\n",
       "  </thead>\n",
       "  <tbody>\n",
       "    <tr>\n",
       "      <th>1270</th>\n",
       "      <td>Earth</td>\n",
       "      <td>False</td>\n",
       "      <td>G/734/S</td>\n",
       "      <td>TRAPPIST-1e</td>\n",
       "      <td>15.0</td>\n",
       "      <td>False</td>\n",
       "      <td>0.0</td>\n",
       "      <td>893.0</td>\n",
       "      <td>0.0</td>\n",
       "      <td>0.0</td>\n",
       "      <td>0.0</td>\n",
       "      <td>1</td>\n",
       "      <td>893.0</td>\n",
       "      <td>178.6</td>\n",
       "      <td>399.361741</td>\n",
       "      <td>G</td>\n",
       "      <td>734</td>\n",
       "      <td>S</td>\n",
       "    </tr>\n",
       "    <tr>\n",
       "      <th>3006</th>\n",
       "      <td>Earth</td>\n",
       "      <td>True</td>\n",
       "      <td>G/734/S</td>\n",
       "      <td>PSO J318.5-22</td>\n",
       "      <td>14.0</td>\n",
       "      <td>False</td>\n",
       "      <td>0.0</td>\n",
       "      <td>0.0</td>\n",
       "      <td>0.0</td>\n",
       "      <td>0.0</td>\n",
       "      <td>0.0</td>\n",
       "      <td>0</td>\n",
       "      <td>0.0</td>\n",
       "      <td>0.0</td>\n",
       "      <td>0.000000</td>\n",
       "      <td>G</td>\n",
       "      <td>734</td>\n",
       "      <td>S</td>\n",
       "    </tr>\n",
       "    <tr>\n",
       "      <th>3309</th>\n",
       "      <td>Earth</td>\n",
       "      <td>True</td>\n",
       "      <td>G/734/S</td>\n",
       "      <td>TRAPPIST-1e</td>\n",
       "      <td>31.0</td>\n",
       "      <td>False</td>\n",
       "      <td>0.0</td>\n",
       "      <td>0.0</td>\n",
       "      <td>0.0</td>\n",
       "      <td>0.0</td>\n",
       "      <td>0.0</td>\n",
       "      <td>1</td>\n",
       "      <td>0.0</td>\n",
       "      <td>0.0</td>\n",
       "      <td>0.000000</td>\n",
       "      <td>G</td>\n",
       "      <td>734</td>\n",
       "      <td>S</td>\n",
       "    </tr>\n",
       "    <tr>\n",
       "      <th>3675</th>\n",
       "      <td>Earth</td>\n",
       "      <td>True</td>\n",
       "      <td>G/734/S</td>\n",
       "      <td>PSO J318.5-22</td>\n",
       "      <td>4.0</td>\n",
       "      <td>False</td>\n",
       "      <td>0.0</td>\n",
       "      <td>0.0</td>\n",
       "      <td>0.0</td>\n",
       "      <td>0.0</td>\n",
       "      <td>0.0</td>\n",
       "      <td>1</td>\n",
       "      <td>0.0</td>\n",
       "      <td>0.0</td>\n",
       "      <td>0.000000</td>\n",
       "      <td>G</td>\n",
       "      <td>734</td>\n",
       "      <td>S</td>\n",
       "    </tr>\n",
       "    <tr>\n",
       "      <th>4458</th>\n",
       "      <td>Earth</td>\n",
       "      <td>False</td>\n",
       "      <td>G/734/S</td>\n",
       "      <td>TRAPPIST-1e</td>\n",
       "      <td>39.0</td>\n",
       "      <td>False</td>\n",
       "      <td>0.0</td>\n",
       "      <td>2.0</td>\n",
       "      <td>0.0</td>\n",
       "      <td>69.0</td>\n",
       "      <td>836.0</td>\n",
       "      <td>0</td>\n",
       "      <td>907.0</td>\n",
       "      <td>181.4</td>\n",
       "      <td>367.127771</td>\n",
       "      <td>G</td>\n",
       "      <td>734</td>\n",
       "      <td>S</td>\n",
       "    </tr>\n",
       "    <tr>\n",
       "      <th>5114</th>\n",
       "      <td>Earth</td>\n",
       "      <td>False</td>\n",
       "      <td>G/734/S</td>\n",
       "      <td>55 Cancri e</td>\n",
       "      <td>11.0</td>\n",
       "      <td>False</td>\n",
       "      <td>0.0</td>\n",
       "      <td>0.0</td>\n",
       "      <td>0.0</td>\n",
       "      <td>0.0</td>\n",
       "      <td>0.0</td>\n",
       "      <td>0</td>\n",
       "      <td>0.0</td>\n",
       "      <td>0.0</td>\n",
       "      <td>0.000000</td>\n",
       "      <td>G</td>\n",
       "      <td>734</td>\n",
       "      <td>S</td>\n",
       "    </tr>\n",
       "    <tr>\n",
       "      <th>6049</th>\n",
       "      <td>Earth</td>\n",
       "      <td>False</td>\n",
       "      <td>G/734/S</td>\n",
       "      <td>TRAPPIST-1e</td>\n",
       "      <td>11.0</td>\n",
       "      <td>False</td>\n",
       "      <td>0.0</td>\n",
       "      <td>0.0</td>\n",
       "      <td>0.0</td>\n",
       "      <td>0.0</td>\n",
       "      <td>0.0</td>\n",
       "      <td>0</td>\n",
       "      <td>0.0</td>\n",
       "      <td>0.0</td>\n",
       "      <td>0.000000</td>\n",
       "      <td>G</td>\n",
       "      <td>734</td>\n",
       "      <td>S</td>\n",
       "    </tr>\n",
       "    <tr>\n",
       "      <th>6258</th>\n",
       "      <td>Earth</td>\n",
       "      <td>False</td>\n",
       "      <td>G/734/S</td>\n",
       "      <td>TRAPPIST-1e</td>\n",
       "      <td>7.0</td>\n",
       "      <td>False</td>\n",
       "      <td>0.0</td>\n",
       "      <td>0.0</td>\n",
       "      <td>0.0</td>\n",
       "      <td>0.0</td>\n",
       "      <td>0.0</td>\n",
       "      <td>0</td>\n",
       "      <td>0.0</td>\n",
       "      <td>0.0</td>\n",
       "      <td>0.000000</td>\n",
       "      <td>G</td>\n",
       "      <td>734</td>\n",
       "      <td>S</td>\n",
       "    </tr>\n",
       "  </tbody>\n",
       "</table>\n",
       "</div>"
      ],
      "text/plain": [
       "     HomePlanet  CryoSleep    Cabin    Destination   Age    VIP  RoomService  \\\n",
       "1270      Earth      False  G/734/S    TRAPPIST-1e  15.0  False          0.0   \n",
       "3006      Earth       True  G/734/S  PSO J318.5-22  14.0  False          0.0   \n",
       "3309      Earth       True  G/734/S    TRAPPIST-1e  31.0  False          0.0   \n",
       "3675      Earth       True  G/734/S  PSO J318.5-22   4.0  False          0.0   \n",
       "4458      Earth      False  G/734/S    TRAPPIST-1e  39.0  False          0.0   \n",
       "5114      Earth      False  G/734/S    55 Cancri e  11.0  False          0.0   \n",
       "6049      Earth      False  G/734/S    TRAPPIST-1e  11.0  False          0.0   \n",
       "6258      Earth      False  G/734/S    TRAPPIST-1e   7.0  False          0.0   \n",
       "\n",
       "      FoodCourt  ShoppingMall   Spa  VRDeck  Transported  Expenses  \\\n",
       "1270      893.0           0.0   0.0     0.0            1     893.0   \n",
       "3006        0.0           0.0   0.0     0.0            0       0.0   \n",
       "3309        0.0           0.0   0.0     0.0            1       0.0   \n",
       "3675        0.0           0.0   0.0     0.0            1       0.0   \n",
       "4458        2.0           0.0  69.0   836.0            0     907.0   \n",
       "5114        0.0           0.0   0.0     0.0            0       0.0   \n",
       "6049        0.0           0.0   0.0     0.0            0       0.0   \n",
       "6258        0.0           0.0   0.0     0.0            0       0.0   \n",
       "\n",
       "      Expenses_mean  Expenses_std Deck  Num Side  \n",
       "1270          178.6    399.361741    G  734    S  \n",
       "3006            0.0      0.000000    G  734    S  \n",
       "3309            0.0      0.000000    G  734    S  \n",
       "3675            0.0      0.000000    G  734    S  \n",
       "4458          181.4    367.127771    G  734    S  \n",
       "5114            0.0      0.000000    G  734    S  \n",
       "6049            0.0      0.000000    G  734    S  \n",
       "6258            0.0      0.000000    G  734    S  "
      ]
     },
     "execution_count": 23,
     "metadata": {},
     "output_type": "execute_result"
    }
   ],
   "source": [
    "df[df['Cabin'] == 'G/734/S']"
   ]
  },
  {
   "cell_type": "markdown",
   "id": "ad67ff15-ca3d-4bcd-8b5f-4c306cafeaa4",
   "metadata": {},
   "source": [
    "### Vamos un análisis del feature 'Age', el cual se anticipa como importante dado que:\n",
    "- Los niños deberían ser salvados con prioridad, por lo que taggear por grupos, que incluye menos de edad es relevante,\n",
    "- Gente mas jóven tiene mas posibilidades de escapar que gente mayor,\n",
    "\n",
    "### Para incorporar estas descripciones se separa en bins de edades,"
   ]
  },
  {
   "cell_type": "code",
   "execution_count": 24,
   "id": "96bd606b-783d-421e-a5a2-c5f44e344f80",
   "metadata": {
    "tags": []
   },
   "outputs": [
    {
     "data": {
      "text/plain": [
       "<AxesSubplot:xlabel='Age', ylabel='Count'>"
      ]
     },
     "execution_count": 24,
     "metadata": {},
     "output_type": "execute_result"
    },
    {
     "data": {
      "image/png": "[encoded data removed]",
      "text/plain": [
       "<Figure size 432x288 with 1 Axes>"
      ]
     },
     "metadata": {
      "needs_background": "light"
     },
     "output_type": "display_data"
    }
   ],
   "source": [
    "#Un aspecto importante a determinar es el número de bins para capturar la distribución del set. Bins 15 captura bien, sobre todo la caída\n",
    "# de poblacion en el rango 5-12 años\n",
    "sns.histplot(x='Age', data=df, color='red',alpha=0.5)\n",
    "sns.histplot(x='Age', data=df, bins=15,alpha=0.5)"
   ]
  },
  {
   "cell_type": "code",
   "execution_count": 25,
   "id": "357f5abf-269b-43da-ba6f-668ea75e7e9e",
   "metadata": {
    "tags": []
   },
   "outputs": [
    {
     "data": {
      "text/plain": [
       "4     1336\n",
       "5     1153\n",
       "3      958\n",
       "6      835\n",
       "7      729\n",
       "0      581\n",
       "8      564\n",
       "9      381\n",
       "2      368\n",
       "10     290\n",
       "11     219\n",
       "1      182\n",
       "12     133\n",
       "13      52\n",
       "14      28\n",
       "15      14\n",
       "Name: AgeBand, dtype: int64"
      ]
     },
     "execution_count": 25,
     "metadata": {},
     "output_type": "execute_result"
    }
   ],
   "source": [
    "number_of_bins = 15\n",
    "def age_band(dataset, bins = number_of_bins):\n",
    "    labels = range(bins)\n",
    "    return pd.cut(dataset['Age'], bins=bins, labels=labels)\n",
    "\n",
    "df['AgeBand'] = age_band(df,number_of_bins+1).astype('int')\n",
    "df['AgeBand'].value_counts()"
   ]
  },
  {
   "cell_type": "code",
   "execution_count": 26,
   "id": "51500cfc-a86f-4d20-b28d-8c215a3eefc0",
   "metadata": {
    "tags": []
   },
   "outputs": [
    {
     "name": "stdout",
     "output_type": "stream",
     "text": [
      "AgeBand: 0, salvados: 30.464716006884682%\n",
      "AgeBand: 1, salvados: 40.65934065934066%\n",
      "AgeBand: 2, salvados: 43.20652173913044%\n",
      "AgeBand: 3, salvados: 47.18162839248434%\n",
      "AgeBand: 4, salvados: 55.61377245508982%\n",
      "AgeBand: 5, salvados: 50.47701647875108%\n",
      "AgeBand: 6, salvados: 54.37125748502994%\n",
      "AgeBand: 7, salvados: 52.674897119341566%\n",
      "AgeBand: 8, salvados: 47.163120567375884%\n",
      "AgeBand: 9, salvados: 50.13123359580052%\n",
      "AgeBand: 10, salvados: 52.41379310344828%\n",
      "AgeBand: 11, salvados: 47.48858447488585%\n",
      "AgeBand: 12, salvados: 50.37593984962406%\n",
      "AgeBand: 13, salvados: 59.61538461538461%\n",
      "AgeBand: 14, salvados: 50.0%\n",
      "AgeBand: 15, salvados: 64.28571428571429%\n"
     ]
    }
   ],
   "source": [
    "# Sin embargo los menores de edad no parecen tener mayores porcentaje de salvarse. Ser mayor si parece ser favorable a salvarse.\n",
    "age_band=1\n",
    "for age_band in range(number_of_bins+1):\n",
    "    salvados = len(df[(df['AgeBand'] == age_band) & (df['Transported'] == 0)])\n",
    "    total = len(df[df['AgeBand'] == age_band])\n",
    "    porcentaje = salvados * 100 / total\n",
    "    print('AgeBand: {}, salvados: {}%'.format(age_band,porcentaje))"
   ]
  },
  {
   "cell_type": "code",
   "execution_count": 27,
   "id": "9337dafb-fc63-4c48-8fa4-d8c91638e98b",
   "metadata": {
    "tags": []
   },
   "outputs": [],
   "source": [
    "df_completo = df.dropna().reset_index(drop=True)\n",
    "df_completo.drop('Cabin',inplace=True,axis=1) # Sacamos la columna Cabin porque ya está representada con sus componentes\n",
    "df_completo['Age'] = df_completo['Age'].astype(int) # Convertimos la edad a variable numérica\n",
    "df_completo['Num'] = df_completo['Num'].astype(int) # Convertimos el numero de habitacion a variable numérica\n",
    "df_completo['CryoSleep'] = df_completo['CryoSleep'].astype(int) # Convertimos CryoSleep 1/0\n",
    "df_completo['VIP'] = df_completo['VIP'].astype(int) # Convertimos VIP a 1/0"
   ]
  },
  {
   "cell_type": "markdown",
   "id": "ddd95797-c8c4-4248-aeac-f3fab0da013e",
   "metadata": {},
   "source": [
    "### Una vez que tenemos el dataframe completo, pasamos hacer un OneHotEncoding de las variables categóricas"
   ]
  },
  {
   "cell_type": "code",
   "execution_count": 28,
   "id": "4cb11fbe-bb08-4b3e-bfb5-fe9635143be7",
   "metadata": {
    "tags": []
   },
   "outputs": [
    {
     "name": "stdout",
     "output_type": "stream",
     "text": [
      "<class 'pandas.core.frame.DataFrame'>\n",
      "RangeIndex: 7639 entries, 0 to 7638\n",
      "Data columns (total 18 columns):\n",
      " #   Column         Non-Null Count  Dtype  \n",
      "---  ------         --------------  -----  \n",
      " 0   HomePlanet     7639 non-null   object \n",
      " 1   CryoSleep      7639 non-null   int64  \n",
      " 2   Destination    7639 non-null   object \n",
      " 3   Age            7639 non-null   int64  \n",
      " 4   VIP            7639 non-null   int64  \n",
      " 5   RoomService    7639 non-null   float64\n",
      " 6   FoodCourt      7639 non-null   float64\n",
      " 7   ShoppingMall   7639 non-null   float64\n",
      " 8   Spa            7639 non-null   float64\n",
      " 9   VRDeck         7639 non-null   float64\n",
      " 10  Transported    7639 non-null   int64  \n",
      " 11  Expenses       7639 non-null   float64\n",
      " 12  Expenses_mean  7639 non-null   float64\n",
      " 13  Expenses_std   7639 non-null   float64\n",
      " 14  Deck           7639 non-null   object \n",
      " 15  Num            7639 non-null   int64  \n",
      " 16  Side           7639 non-null   object \n",
      " 17  AgeBand        7639 non-null   int64  \n",
      "dtypes: float64(8), int64(6), object(4)\n",
      "memory usage: 1.0+ MB\n"
     ]
    }
   ],
   "source": [
    "df_completo.info()"
   ]
  },
  {
   "cell_type": "code",
   "execution_count": 29,
   "id": "3f28f4b2-8b85-400f-b141-1c96c5008277",
   "metadata": {
    "tags": []
   },
   "outputs": [
    {
     "name": "stdout",
     "output_type": "stream",
     "text": [
      "['Europa' 'Mars' 'Earth']\n",
      "['TRAPPIST-1e' 'PSO J318.5-22' '55 Cancri e']\n",
      "['C' 'F' 'B' 'G' 'E' 'D' 'A' 'T']\n",
      "['P' 'S']\n",
      "Variables nuevas con OneHotEncoder: 16\n"
     ]
    }
   ],
   "source": [
    "categorical_values = ['HomePlanet','Destination','Deck','Side']\n",
    "added_variables_counter=0\n",
    "for item in categorical_values:\n",
    "    print(df_completo[item].unique())\n",
    "    added_variables_counter = added_variables_counter + len(df_completo[item].unique())\n",
    "    \n",
    "print('Variables nuevas con OneHotEncoder: {}'.format(added_variables_counter))"
   ]
  },
  {
   "cell_type": "code",
   "execution_count": 30,
   "id": "11ca3a3e-ffbb-49bb-9b7f-852236e361ad",
   "metadata": {
    "tags": []
   },
   "outputs": [
    {
     "name": "stdout",
     "output_type": "stream",
     "text": [
      "[array(['Earth', 'Europa', 'Mars'], dtype=object), array(['55 Cancri e', 'PSO J318.5-22', 'TRAPPIST-1e'], dtype=object), array(['A', 'B', 'C', 'D', 'E', 'F', 'G', 'T'], dtype=object), array(['P', 'S'], dtype=object)]\n"
     ]
    },
    {
     "data": {
      "text/plain": [
       "array([[0., 1., 0., ..., 0., 1., 0.],\n",
       "       [0., 0., 1., ..., 0., 0., 1.],\n",
       "       [0., 1., 0., ..., 0., 0., 1.],\n",
       "       ...,\n",
       "       [0., 0., 1., ..., 0., 1., 0.],\n",
       "       [1., 0., 0., ..., 0., 1., 0.],\n",
       "       [0., 1., 0., ..., 0., 1., 0.]])"
      ]
     },
     "execution_count": 30,
     "metadata": {},
     "output_type": "execute_result"
    }
   ],
   "source": [
    "one_hot_enconder = OneHotEncoder()\n",
    "features_array = one_hot_enconder.fit_transform(df_completo[categorical_values]).toarray()\n",
    "print(one_hot_enconder.categories_)\n",
    "features_array"
   ]
  },
  {
   "cell_type": "code",
   "execution_count": 31,
   "id": "34be5e19-3f44-40c0-9e4b-bda0b3ab090e",
   "metadata": {
    "tags": []
   },
   "outputs": [],
   "source": [
    "# Acá proceso para hacer el dataframe derivado del OneHotEncoder\n",
    "feature_labels = one_hot_enconder.categories_ # obtengo las categorias de la instacia del encoder\n",
    "feature_labels = np.hstack(feature_labels) # esto es para obtener un array de una sola fila\n",
    "encoded_data_df = pd.DataFrame(features_array, columns=feature_labels) # Creo el dataframe con la info encodeada\n",
    "df_completo_encoded = pd.concat([df_completo,encoded_data_df], axis=1) # Junto las columnas para obtener el dataframe final\n",
    "df_completo_encoded_listo = df_completo_encoded.drop(categorical_values,axis=1)"
   ]
  },
  {
   "cell_type": "markdown",
   "id": "aa4d9aa7-46b3-453f-975c-073e5900c9f5",
   "metadata": {},
   "source": [
    "## Finalmente se hace un escalado de los datos"
   ]
  },
  {
   "cell_type": "code",
   "execution_count": 32,
   "id": "f25e6629-9c7a-4e48-8be4-97e6f2474944",
   "metadata": {
    "tags": []
   },
   "outputs": [
    {
     "name": "stdout",
     "output_type": "stream",
     "text": [
      "<class 'pandas.core.frame.DataFrame'>\n",
      "RangeIndex: 7639 entries, 0 to 7638\n",
      "Data columns (total 30 columns):\n",
      " #   Column         Non-Null Count  Dtype  \n",
      "---  ------         --------------  -----  \n",
      " 0   CryoSleep      7639 non-null   int64  \n",
      " 1   Age            7639 non-null   int64  \n",
      " 2   VIP            7639 non-null   int64  \n",
      " 3   RoomService    7639 non-null   float64\n",
      " 4   FoodCourt      7639 non-null   float64\n",
      " 5   ShoppingMall   7639 non-null   float64\n",
      " 6   Spa            7639 non-null   float64\n",
      " 7   VRDeck         7639 non-null   float64\n",
      " 8   Transported    7639 non-null   int64  \n",
      " 9   Expenses       7639 non-null   float64\n",
      " 10  Expenses_mean  7639 non-null   float64\n",
      " 11  Expenses_std   7639 non-null   float64\n",
      " 12  Num            7639 non-null   int64  \n",
      " 13  AgeBand        7639 non-null   int64  \n",
      " 14  Earth          7639 non-null   float64\n",
      " 15  Europa         7639 non-null   float64\n",
      " 16  Mars           7639 non-null   float64\n",
      " 17  55 Cancri e    7639 non-null   float64\n",
      " 18  PSO J318.5-22  7639 non-null   float64\n",
      " 19  TRAPPIST-1e    7639 non-null   float64\n",
      " 20  A              7639 non-null   float64\n",
      " 21  B              7639 non-null   float64\n",
      " 22  C              7639 non-null   float64\n",
      " 23  D              7639 non-null   float64\n",
      " 24  E              7639 non-null   float64\n",
      " 25  F              7639 non-null   float64\n",
      " 26  G              7639 non-null   float64\n",
      " 27  T              7639 non-null   float64\n",
      " 28  P              7639 non-null   float64\n",
      " 29  S              7639 non-null   float64\n",
      "dtypes: float64(24), int64(6)\n",
      "memory usage: 1.7 MB\n"
     ]
    }
   ],
   "source": [
    "df_completo_encoded_listo.info()"
   ]
  },
  {
   "cell_type": "code",
   "execution_count": 33,
   "id": "ca16e68a-924b-4fcc-8365-80067821c7bf",
   "metadata": {
    "tags": []
   },
   "outputs": [
    {
     "name": "stdout",
     "output_type": "stream",
     "text": [
      "<class 'pandas.core.frame.DataFrame'>\n",
      "RangeIndex: 7639 entries, 0 to 7638\n",
      "Data columns (total 30 columns):\n",
      " #   Column         Non-Null Count  Dtype  \n",
      "---  ------         --------------  -----  \n",
      " 0   CryoSleep      7639 non-null   int64  \n",
      " 1   Age            7639 non-null   int64  \n",
      " 2   VIP            7639 non-null   int64  \n",
      " 3   RoomService    7639 non-null   float64\n",
      " 4   FoodCourt      7639 non-null   float64\n",
      " 5   ShoppingMall   7639 non-null   float64\n",
      " 6   Spa            7639 non-null   float64\n",
      " 7   VRDeck         7639 non-null   float64\n",
      " 8   Transported    7639 non-null   int64  \n",
      " 9   Expenses       7639 non-null   float64\n",
      " 10  Expenses_mean  7639 non-null   float64\n",
      " 11  Expenses_std   7639 non-null   float64\n",
      " 12  Num            7639 non-null   int64  \n",
      " 13  AgeBand        7639 non-null   int64  \n",
      " 14  Earth          7639 non-null   int64  \n",
      " 15  Europa         7639 non-null   int64  \n",
      " 16  Mars           7639 non-null   int64  \n",
      " 17  55 Cancri e    7639 non-null   int64  \n",
      " 18  PSO J318.5-22  7639 non-null   int64  \n",
      " 19  TRAPPIST-1e    7639 non-null   int64  \n",
      " 20  A              7639 non-null   int64  \n",
      " 21  B              7639 non-null   int64  \n",
      " 22  C              7639 non-null   int64  \n",
      " 23  D              7639 non-null   int64  \n",
      " 24  E              7639 non-null   int64  \n",
      " 25  F              7639 non-null   int64  \n",
      " 26  G              7639 non-null   int64  \n",
      " 27  T              7639 non-null   int64  \n",
      " 28  P              7639 non-null   int64  \n",
      " 29  S              7639 non-null   int64  \n",
      "dtypes: float64(8), int64(22)\n",
      "memory usage: 1.7 MB\n"
     ]
    }
   ],
   "source": [
    "integer_columns = df_completo_encoded_listo.iloc[:,14:].columns.to_list()\n",
    "for column in integer_columns:\n",
    "    df_completo_encoded_listo[column] = df_completo_encoded_listo[column].astype(int)\n",
    "\n",
    "df_completo_encoded_listo.info()"
   ]
  },
  {
   "cell_type": "code",
   "execution_count": 34,
   "id": "85a62654-6260-4b09-a3b1-0a14cbf160f9",
   "metadata": {
    "tags": []
   },
   "outputs": [
    {
     "name": "stdout",
     "output_type": "stream",
     "text": [
      "Age\n",
      "RoomService\n",
      "FoodCourt\n",
      "ShoppingMall\n",
      "Spa\n",
      "VRDeck\n",
      "Expenses\n",
      "Expenses_mean\n",
      "Expenses_std\n",
      "AgeBand\n"
     ]
    }
   ],
   "source": [
    "mms = MinMaxScaler()\n",
    "\n",
    "columns_to_rescale = ['Age','RoomService','FoodCourt','ShoppingMall','Spa','VRDeck',\n",
    "                      'Expenses','Expenses_mean','Expenses_std','AgeBand']\n",
    "\n",
    "#df_completo_encoded_listo['Age']\n",
    "\n",
    "#df_completo_encoded_listo['Age'] = mms.fit_transform(df_completo_encoded_listo['Age'].values.reshape(-1,1))\n",
    "\n",
    "for column in columns_to_rescale:\n",
    "    print(column)\n",
    "    df_completo_encoded_listo[column] = mms.fit_transform(df_completo_encoded_listo[column].values.reshape(-1,1))"
   ]
  },
  {
   "cell_type": "code",
   "execution_count": 35,
   "id": "bbfbb77f-d568-4e1f-86ed-1c6d25deb459",
   "metadata": {
    "tags": []
   },
   "outputs": [
    {
     "name": "stdout",
     "output_type": "stream",
     "text": [
      "(7639, 29)\n",
      "(7639,)\n"
     ]
    }
   ],
   "source": [
    "X = df_completo_encoded_listo.drop('Transported',axis=1)\n",
    "y = df_completo_encoded_listo.Transported\n",
    "print(X.shape)\n",
    "print(y.shape)\n"
   ]
  },
  {
   "cell_type": "markdown",
   "id": "0abcf8c8-f9b1-479b-8ebd-6a2765ed3fd7",
   "metadata": {},
   "source": [
    "## Experimentación con modelos de clasificación"
   ]
  },
  {
   "cell_type": "code",
   "execution_count": 36,
   "id": "33c00d57-a95d-4665-84ba-146d413d8a09",
   "metadata": {
    "tags": []
   },
   "outputs": [],
   "source": [
    "### Separamos en dataframe en test y validación\n",
    "X_train, X_test, y_train, y_test = train_test_split(X, y, train_size=0.8, random_state = 42)"
   ]
  },
  {
   "cell_type": "markdown",
   "id": "2bdfff32-35ec-4305-955d-6ee450f15313",
   "metadata": {},
   "source": [
    "Usando la funcion \"feature_importances_\" de RandomForest, vamos a ver que features son las que más peso tienen en las predicciones, para quedarnos con ellas, y luego utilizar solo estas columnas en las predicciones siguientes."
   ]
  },
  {
   "cell_type": "code",
   "execution_count": 37,
   "id": "4fc08335-f43a-4dd8-9f28-c27e1b8557d3",
   "metadata": {
    "tags": []
   },
   "outputs": [
    {
     "name": "stdout",
     "output_type": "stream",
     "text": [
      " 1 Expenses_mean                  0.15\n",
      " 2 Expenses_std                   0.14\n",
      " 3 Expenses                       0.10\n",
      " 4 CryoSleep                      0.09\n",
      " 5 Spa                            0.08\n",
      " 6 FoodCourt                      0.07\n",
      " 7 RoomService                    0.07\n",
      " 8 ShoppingMall                   0.05\n",
      " 9 VRDeck                         0.05\n",
      "10 Earth                          0.03\n",
      "11 Europa                         0.03\n",
      "12 G                              0.02\n",
      "13 Num                            0.02\n"
     ]
    }
   ],
   "source": [
    "treshold = 0.02\n",
    "\n",
    "forest = RandomForestClassifier(n_estimators=100, min_samples_split=200, random_state=42)\n",
    "forest.fit(X_train,y_train)\n",
    "\n",
    "importances = forest.feature_importances_\n",
    "indexes = np.argsort(importances)[::-1]\n",
    "\n",
    "columns = []\n",
    "\n",
    "for i,f in enumerate(indexes):\n",
    "    importance = importances[f]\n",
    "    if importance >= treshold:\n",
    "        column = X_train.columns[f]\n",
    "        columns.append(column)\n",
    "        print(\"{0:2} {1:30} {2:.2f}\".format(i+1,column,importances[f]))"
   ]
  },
  {
   "cell_type": "markdown",
   "id": "43759a41-0d35-4c17-a8ab-8992656cda61",
   "metadata": {},
   "source": [
    "Modificamos nuestro train y test con las columnas que obtuvimos del feature_importances."
   ]
  },
  {
   "cell_type": "code",
   "execution_count": 38,
   "id": "1cd4126e-f272-4520-83a1-c1bfd8442b34",
   "metadata": {
    "tags": []
   },
   "outputs": [],
   "source": [
    "X_train = X_train[columns]\n",
    "X_test = X_test[columns]"
   ]
  },
  {
   "cell_type": "markdown",
   "id": "bb2bccca-d151-47d3-a4e8-9c72f8319a1f",
   "metadata": {},
   "source": [
    "Ahora vamos a probar distintos modelos con hiperparametros estandar, y luego probaremos optimizar los hiperparametros con RandomSearch y GridSearch. Guardaremos todos los scores en variables distintas, para luego armar un dataframe y poder identificar el mejor score y a que modelo corresponde. Por una cuestión de simplicidad, vamos a quedarnos con la función \"score\" que viene en los modelos de sklearn, que nos devuelve el valor de R², consideramos que es una métrica razonable para poder comparar los distintos modelos y su performance."
   ]
  },
  {
   "cell_type": "code",
   "execution_count": 39,
   "id": "a32b8d78-a8b2-4426-9681-50753400bdd5",
   "metadata": {
    "tags": []
   },
   "outputs": [
    {
     "data": {
      "text/plain": [
       "79.12"
      ]
     },
     "execution_count": 39,
     "metadata": {},
     "output_type": "execute_result"
    }
   ],
   "source": [
    "rf = RandomForestClassifier(n_estimators=100, min_samples_split=200, random_state=42)\n",
    "rf.fit(X_train,y_train)\n",
    "acc_rf = round(rf.score(X_test, y_test) * 100, 2)\n",
    "acc_rf"
   ]
  },
  {
   "cell_type": "code",
   "execution_count": 41,
   "id": "9ab9a7d5-5472-44b9-b551-441a72aaa5ee",
   "metadata": {
    "tags": []
   },
   "outputs": [
    {
     "data": {
      "application/vnd.jupyter.widget-view+json": {
       "model_id": "c180ce2cef41418081c25da6de098b09",
       "version_major": 2,
       "version_minor": 0
      },
      "text/plain": [
       "MetricVisualizer(layout=Layout(align_self='stretch', height='500px'))"
      ]
     },
     "metadata": {},
     "output_type": "display_data"
    },
    {
     "data": {
      "text/plain": [
       "80.04"
      ]
     },
     "execution_count": 41,
     "metadata": {},
     "output_type": "execute_result"
    }
   ],
   "source": [
    "catboost = CatBoostClassifier(\n",
    "    iterations=50,\n",
    "    random_seed=42,\n",
    "    learning_rate=0.1,\n",
    "    custom_loss=['AUC', 'Accuracy']\n",
    ")\n",
    "\n",
    "catboost.fit(\n",
    "    X_train, y_train,\n",
    "    verbose=False,\n",
    "    plot=True\n",
    ")\n",
    "\n",
    "acc_catboost = round(catboost.score(X_val, y_val) * 100, 2)\n",
    "acc_catboost"
   ]
  },
  {
   "cell_type": "code",
   "execution_count": 42,
   "id": "ad478ebc-7757-44fc-8b38-4ab8d432f25e",
   "metadata": {
    "tags": []
   },
   "outputs": [
    {
     "data": {
      "text/plain": [
       "59.75"
      ]
     },
     "execution_count": 42,
     "metadata": {},
     "output_type": "execute_result"
    }
   ],
   "source": [
    "knn = KNeighborsClassifier(n_neighbors = 10)\n",
    "knn.fit(X_train, y_train)\n",
    "train_predictions = knn.predict(X_train)\n",
    "acc_knn = round(knn.score(X_val, y_val) * 100, 2)\n",
    "acc_knn"
   ]
  },
  {
   "cell_type": "code",
   "execution_count": 43,
   "id": "863ea25c-b705-4433-b477-49e0f4efc12f",
   "metadata": {
    "tags": []
   },
   "outputs": [
    {
     "data": {
      "text/plain": [
       "68.78"
      ]
     },
     "execution_count": 43,
     "metadata": {},
     "output_type": "execute_result"
    }
   ],
   "source": [
    "gaussian = GaussianNB()\n",
    "gaussian.fit(X_train, y_train)\n",
    "acc_gaussian = round(gaussian.score(X_val, y_val) * 100, 2)\n",
    "acc_gaussian"
   ]
  },
  {
   "cell_type": "code",
   "execution_count": 44,
   "id": "6e3128f2-a297-426b-b64a-aa43e8eafeb5",
   "metadata": {
    "tags": []
   },
   "outputs": [
    {
     "data": {
      "text/plain": [
       "79.58"
      ]
     },
     "execution_count": 44,
     "metadata": {},
     "output_type": "execute_result"
    }
   ],
   "source": [
    "# A parameter grid for XGBoost\n",
    "params = {\n",
    "        'min_child_weight': [1, 5, 10],\n",
    "        'gamma': [0.5, 1, 1.5, 2, 5],\n",
    "        'subsample': [0.6, 0.8, 1.0],\n",
    "        'colsample_bytree': [0.6, 0.8, 1.0],\n",
    "        'max_depth': [3, 4, 5]\n",
    "        }\n",
    "\n",
    "xgb = XGBClassifier(learning_rate=0.02, n_estimators=600, objective='binary:logistic',\n",
    "                    nthread=1,verbosity=0)\n",
    "\n",
    "xgb.fit(X_train, y_train)\n",
    "acc_xgb = round(xgb.score(X_val, y_val) * 100, 2)\n",
    "acc_xgb"
   ]
  },
  {
   "cell_type": "code",
   "execution_count": 45,
   "id": "0100abe7-31ed-4147-aeef-bfb9b555ad8a",
   "metadata": {
    "tags": []
   },
   "outputs": [
    {
     "name": "stdout",
     "output_type": "stream",
     "text": [
      "Fitting 3 folds for each of 5 candidates, totalling 15 fits\n"
     ]
    },
    {
     "data": {
      "text/plain": [
       "80.37"
      ]
     },
     "execution_count": 45,
     "metadata": {},
     "output_type": "execute_result"
    }
   ],
   "source": [
    "folds = 3\n",
    "param_comb = 5\n",
    "\n",
    "skf = StratifiedKFold(n_splits=folds, shuffle = True, random_state = 42)\n",
    "\n",
    "random_search = RandomizedSearchCV(xgb, param_distributions=params, n_iter=param_comb, scoring='roc_auc', n_jobs=4, cv=skf.split(X_train, y_train), verbose=3, random_state=42 )\n",
    "\n",
    "# Here we go\n",
    "random_search.fit(X_train, y_train)\n",
    "clf = XGBClassifier(**random_search.best_params_,use_label_encoder=False).fit(X_train, y_train)\n",
    "\n",
    "clf.fit(X_train, y_train)\n",
    "acc_xgb_rscv = round(clf.score(X_val, y_val) * 100, 2)\n",
    "acc_xgb_rscv"
   ]
  },
  {
   "cell_type": "code",
   "execution_count": 46,
   "id": "bcdb7997-0a79-43da-be85-bf67cfb0ff13",
   "metadata": {
    "tags": []
   },
   "outputs": [
    {
     "name": "stdout",
     "output_type": "stream",
     "text": [
      "[CV 1/3] END colsample_bytree=0.6, gamma=1.5, max_depth=4, min_child_weight=10, subsample=0.8;, score=0.880 total time=   1.8s\n",
      "[CV 2/3] END colsample_bytree=1.0, gamma=5, max_depth=3, min_child_weight=10, subsample=0.8;, score=0.883 total time=   2.2s\n",
      "[CV 3/3] END colsample_bytree=0.6, gamma=1, max_depth=3, min_child_weight=10, subsample=0.6;, score=0.879 total time=   1.7s\n",
      "[CV 1/3] END colsample_bytree=0.8, gamma=2, max_depth=3, min_child_weight=1, subsample=1.0;, score=0.877 total time=   1.7s\n",
      "[CV 2/3] END colsample_bytree=0.8, gamma=2, max_depth=3, min_child_weight=1, subsample=1.0;, score=0.882 total time=   1.9s\n",
      "[CV 1/3] END colsample_bytree=0.6, gamma=1, max_depth=3, min_child_weight=10, subsample=0.6;, score=0.878 total time=   1.6s\n",
      "[CV 1/3] END colsample_bytree=0.6, gamma=1, max_depth=4, min_child_weight=10, subsample=0.6;, score=0.879 total time=   1.9s\n",
      "[CV 2/3] END colsample_bytree=0.6, gamma=1.5, max_depth=4, min_child_weight=10, subsample=0.8;, score=0.883 total time=   1.8s\n",
      "[CV 1/3] END colsample_bytree=1.0, gamma=5, max_depth=3, min_child_weight=10, subsample=0.8;, score=0.877 total time=   2.0s\n",
      "[CV 2/3] END colsample_bytree=0.6, gamma=1, max_depth=3, min_child_weight=10, subsample=0.6;, score=0.883 total time=   1.7s\n",
      "[CV 2/3] END colsample_bytree=0.6, gamma=1, max_depth=4, min_child_weight=10, subsample=0.6;, score=0.883 total time=   1.9s\n",
      "[CV 3/3] END colsample_bytree=0.6, gamma=1.5, max_depth=4, min_child_weight=10, subsample=0.8;, score=0.878 total time=   1.7s\n",
      "[CV 3/3] END colsample_bytree=0.8, gamma=2, max_depth=3, min_child_weight=1, subsample=1.0;, score=0.879 total time=   1.7s\n",
      "[CV 3/3] END colsample_bytree=1.0, gamma=5, max_depth=3, min_child_weight=10, subsample=0.8;, score=0.879 total time=   2.0s\n",
      "[CV 3/3] END colsample_bytree=0.6, gamma=1, max_depth=4, min_child_weight=10, subsample=0.6;, score=0.879 total time=   1.8s\n"
     ]
    },
    {
     "data": {
      "text/plain": [
       "79.65"
      ]
     },
     "execution_count": 46,
     "metadata": {},
     "output_type": "execute_result"
    }
   ],
   "source": [
    "param_grid = {\n",
    "    \"max_depth\": [3, 4, 5, 7, 10],\n",
    "    \"learning_rate\": [0.2, 0.1, 0.01, 0.05],\n",
    "    \"gamma\": [0, 0.25, 1],\n",
    "    \"reg_lambda\": [0, 1, 10],\n",
    "    \"scale_pos_weight\": [1, 3, 5],\n",
    "    \"subsample\": [0.8],\n",
    "    \"colsample_bytree\": [0.5],\n",
    "}\n",
    "\n",
    "xgb_cl = XGBClassifier(objective=\"binary:logistic\",use_label_encoder=False, verbosity = 0)\n",
    "\n",
    "grid_cv = GridSearchCV(xgb_cl, param_grid, n_jobs=-1, cv=5)\n",
    "\n",
    "grid_cv.fit(X_train,y_train)\n",
    "acc_xgb_gscv = round(grid_cv.score(X_val, y_val) * 100, 2)\n",
    "acc_xgb_gscv"
   ]
  },
  {
   "cell_type": "code",
   "execution_count": 48,
   "id": "3201ccd0-0a28-4ee6-8890-17db1aedc0ec",
   "metadata": {
    "tags": []
   },
   "outputs": [
    {
     "data": {
      "text/plain": [
       "77.55"
      ]
     },
     "execution_count": 48,
     "metadata": {},
     "output_type": "execute_result"
    }
   ],
   "source": [
    "param_grid = {'n_estimators': [200,500],\n",
    "             'max_depth'   : [3, 10, 20, 30],\n",
    "             'min_samples_leaf': [0.05, 0.1],\n",
    "             'max_features': ['sqrt',0.5, 1.0],\n",
    "             'ccp_alpha': [0, 0.01]\n",
    "            }\n",
    "\n",
    "\n",
    "rfc=RandomForestClassifier(\n",
    "            random_state = 42\n",
    "        )\n",
    "\n",
    "CV_rfc = GridSearchCV(estimator=rfc, param_grid=param_grid, cv= 5)\n",
    "CV_rfc.fit(X_train,y_train)\n",
    "\n",
    "acc_rf_gscv = round(CV_rfc.score(X_val, y_val) * 100, 2)\n",
    "acc_rf_gscv"
   ]
  },
  {
   "cell_type": "code",
   "execution_count": 50,
   "id": "34033d82-cd0e-4600-aeec-7db9c0463336",
   "metadata": {
    "tags": []
   },
   "outputs": [
    {
     "data": {
      "text/plain": [
       "79.78"
      ]
     },
     "execution_count": 50,
     "metadata": {},
     "output_type": "execute_result"
    }
   ],
   "source": [
    "models = {'XGboost':XGBClassifier(verbosity = 0),\n",
    "           'gbc':GradientBoostingClassifier(),\n",
    "           'ridge':RidgeClassifier(),\n",
    "           'lr':LogisticRegression()}\n",
    "\n",
    "estimators = [('XGboost', XGBClassifier(verbosity = 0)), ('gbc', GradientBoostingClassifier()),  ('lr', LogisticRegression())]\n",
    "modelVC = VotingClassifier(estimators=estimators, voting='soft', weights=[1, 1, 1])\n",
    "modelVC.fit(X_train,y_train)\n",
    "\n",
    "acc_voting = round(modelVC.score(X_val, y_val) * 100, 2)\n",
    "acc_voting"
   ]
  },
  {
   "cell_type": "code",
   "execution_count": 51,
   "id": "b3b2c138-9ab0-4227-8445-b9acd9866854",
   "metadata": {
    "tags": []
   },
   "outputs": [
    {
     "data": {
      "text/plain": [
       "79.97"
      ]
     },
     "execution_count": 51,
     "metadata": {},
     "output_type": "execute_result"
    }
   ],
   "source": [
    "modelLGBM=LGBMClassifier(max_depth=6, random_state=42, metric='None', n_jobs=6)\n",
    "\n",
    "modelLGBM.fit(X_train,y_train)\n",
    "acc_lgbm = round(modelLGBM.score(X_val, y_val) * 100, 2)\n",
    "acc_lgbm"
   ]
  },
  {
   "cell_type": "code",
   "execution_count": 52,
   "id": "9dd52938-0495-4971-8450-a7cd7cc24d92",
   "metadata": {
    "tags": []
   },
   "outputs": [
    {
     "data": {
      "text/plain": [
       "80.17"
      ]
     },
     "execution_count": 52,
     "metadata": {},
     "output_type": "execute_result"
    }
   ],
   "source": [
    "model = LGBMClassifier()\n",
    "param_grid = {\n",
    "    'n_estimators': [400, 700, 1000],\n",
    "    'colsample_bytree': [0.7, 0.8],\n",
    "    'max_depth': [15,20,25],\n",
    "    'num_leaves': [50, 100, 200],\n",
    "    'reg_alpha': [1.1, 1.2, 1.3],\n",
    "    'reg_lambda': [1.1, 1.2, 1.3],\n",
    "    'min_split_gain': [0.3, 0.4],\n",
    "    'subsample': [0.7, 0.8, 0.9],\n",
    "    'subsample_freq': [20]\n",
    "}\n",
    "\n",
    "# Init Grid Search\n",
    "grid_cv_lgmb = GridSearchCV(model, param_grid, n_jobs=-1, cv=3)\n",
    "\n",
    "grid_cv_lgmb.fit(X_train,y_train)\n",
    "\n",
    "acc_lgbm_cv = round(grid_cv_lgmb.score(X_val, y_val) * 100, 2)\n",
    "acc_lgbm_cv"
   ]
  },
  {
   "cell_type": "code",
   "execution_count": 54,
   "id": "890e9a5a-7a8c-475b-87ed-8bf05173d35b",
   "metadata": {
    "tags": []
   },
   "outputs": [
    {
     "data": {
      "text/html": [
       "<div>\n",
       "<style scoped>\n",
       "    .dataframe tbody tr th:only-of-type {\n",
       "        vertical-align: middle;\n",
       "    }\n",
       "\n",
       "    .dataframe tbody tr th {\n",
       "        vertical-align: top;\n",
       "    }\n",
       "\n",
       "    .dataframe thead th {\n",
       "        text-align: right;\n",
       "    }\n",
       "</style>\n",
       "<table border=\"1\" class=\"dataframe\">\n",
       "  <thead>\n",
       "    <tr style=\"text-align: right;\">\n",
       "      <th></th>\n",
       "      <th>Model</th>\n",
       "      <th>Score</th>\n",
       "    </tr>\n",
       "  </thead>\n",
       "  <tbody>\n",
       "    <tr>\n",
       "      <th>4</th>\n",
       "      <td>XGBoost RSCV</td>\n",
       "      <td>80.37</td>\n",
       "    </tr>\n",
       "    <tr>\n",
       "      <th>9</th>\n",
       "      <td>LightGBM GSCV</td>\n",
       "      <td>80.17</td>\n",
       "    </tr>\n",
       "    <tr>\n",
       "      <th>1</th>\n",
       "      <td>CatBoost</td>\n",
       "      <td>80.04</td>\n",
       "    </tr>\n",
       "    <tr>\n",
       "      <th>8</th>\n",
       "      <td>LightGBM</td>\n",
       "      <td>79.97</td>\n",
       "    </tr>\n",
       "    <tr>\n",
       "      <th>7</th>\n",
       "      <td>Voting Classifier</td>\n",
       "      <td>79.78</td>\n",
       "    </tr>\n",
       "    <tr>\n",
       "      <th>5</th>\n",
       "      <td>XGboost GSCV</td>\n",
       "      <td>79.65</td>\n",
       "    </tr>\n",
       "    <tr>\n",
       "      <th>0</th>\n",
       "      <td>RandomForest</td>\n",
       "      <td>79.12</td>\n",
       "    </tr>\n",
       "    <tr>\n",
       "      <th>6</th>\n",
       "      <td>RandomForest GSCV</td>\n",
       "      <td>77.55</td>\n",
       "    </tr>\n",
       "    <tr>\n",
       "      <th>3</th>\n",
       "      <td>Guassian</td>\n",
       "      <td>68.78</td>\n",
       "    </tr>\n",
       "    <tr>\n",
       "      <th>2</th>\n",
       "      <td>KNN</td>\n",
       "      <td>59.75</td>\n",
       "    </tr>\n",
       "  </tbody>\n",
       "</table>\n",
       "</div>"
      ],
      "text/plain": [
       "               Model  Score\n",
       "4       XGBoost RSCV  80.37\n",
       "9      LightGBM GSCV  80.17\n",
       "1           CatBoost  80.04\n",
       "8           LightGBM  79.97\n",
       "7  Voting Classifier  79.78\n",
       "5       XGboost GSCV  79.65\n",
       "0       RandomForest  79.12\n",
       "6  RandomForest GSCV  77.55\n",
       "3           Guassian  68.78\n",
       "2                KNN  59.75"
      ]
     },
     "execution_count": 54,
     "metadata": {},
     "output_type": "execute_result"
    }
   ],
   "source": [
    "models = pd.DataFrame({\n",
    "    'Model': ['RandomForest','CatBoost', 'KNN', 'Guassian', \n",
    "              'XGBoost RSCV', 'XGboost GSCV', 'RandomForest GSCV', \n",
    "              'Voting Classifier', 'LightGBM', \n",
    "              'LightGBM GSCV'],\n",
    "    'Score': [acc_rf, acc_catboost, acc_knn, acc_gaussian, \n",
    "              acc_xgb_rscv, acc_xgb_gscv, acc_rf_gscv, \n",
    "              acc_voting, acc_lgbm, acc_lgbm_cv]})\n",
    "models.sort_values(by='Score', ascending=False)"
   ]
  }
 ],
 "metadata": {
  "kernelspec": {
   "display_name": "Python 3 (ipykernel)",
   "language": "python",
   "name": "python3"
  },
  "language_info": {
   "codemirror_mode": {
    "name": "ipython",
    "version": 3
   },
   "file_extension": ".py",
   "mimetype": "text/x-python",
   "name": "python",
   "nbconvert_exporter": "python",
   "pygments_lexer": "ipython3",
   "version": "3.9.12"
  }
 },
 "nbformat": 4,
 "nbformat_minor": 5
}
